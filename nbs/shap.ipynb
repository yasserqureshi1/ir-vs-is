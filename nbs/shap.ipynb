{
 "cells": [
  {
   "attachments": {},
   "cell_type": "markdown",
   "metadata": {},
   "source": [
    "# SHAP Plots"
   ]
  },
  {
   "attachments": {},
   "cell_type": "markdown",
   "metadata": {},
   "source": [
    "### Import Libraries"
   ]
  },
  {
   "cell_type": "code",
   "execution_count": null,
   "metadata": {},
   "outputs": [],
   "source": [
    "import matplotlib.pyplot as plt\n",
    "import shap\n",
    "import pandas as pd\n",
    "import numpy as np\n",
    "import joblib\n",
    "import seaborn as sns\n",
    "\n",
    "from sklearn.preprocessing import StandardScaler\n",
    "from sklearn import metrics\n",
    "\n",
    "from sklearn.preprocessing import StandardScaler\n",
    "\n",
    "np.random.seed(0)"
   ]
  },
  {
   "attachments": {},
   "cell_type": "markdown",
   "metadata": {},
   "source": [
    "### Fit model and get SHAP values"
   ]
  },
  {
   "cell_type": "code",
   "execution_count": null,
   "metadata": {},
   "outputs": [],
   "source": [
    "def shap_plots(data, fold_type, explainer_type, model_type, cols=None):\n",
    "    model = data['model']\n",
    "    df_train = data['df_train']\n",
    "    df_train_target = data['df_train_target']\n",
    "    features = data['features']\n",
    "    test = data['test']\n",
    "    train_os = data['train_os']\n",
    "    mask = data['mask']\n",
    "    \n",
    "    df_train_target.loc[df_train_target['TrialID'].isin([0,1,2,3]), 'Species'] = 0\n",
    "    df_train_target.loc[df_train_target['TrialID'].isin([4,5,6,7,8]),'Species'] = 1\n",
    "    df_train_target.loc[df_train_target['TrialID'].isin([9,10,11,12]),'Species'] = 2\n",
    "    df_train_target.loc[df_train_target['TrialID'].isin([13,14,15,16]),'Species'] = 3\n",
    "    df_train_target.loc[df_train_target['TrialID'].isin([0,1,2,3]),'Target'] = 1\n",
    "    df_train_target.loc[df_train_target['TrialID'].isin([13,14,15,16]),'Target'] = 0\n",
    "    df_train_target.loc[df_train_target['TrialID'].isin([4,5,6,7,8]),'Target'] = 0\n",
    "    df_train_target.loc[df_train_target['TrialID'].isin([9,10,11,12]),'Target'] = 1\n",
    "\n",
    "    print('Initalising SHAP...')\n",
    "    if explainer_type == 'TreeExplainer':\n",
    "        explainer = shap.TreeExplainer(model, data=train_os, model_output='probability')\n",
    "    elif explainer_type == 'Explainer':\n",
    "        explainer = shap.Explainer(model, train_os)\n",
    "\n",
    "    print('Computing SHAP values...')\n",
    "    try:\n",
    "        test = test.sample(5000, random_state=1)\n",
    "    except:\n",
    "        pass\n",
    "\n",
    "    shap_vals = explainer.shap_values(test)\n",
    "\n",
    "    print('Generating plots...')\n",
    "\n",
    "    plt.figure(figsize=(12,15), dpi=300)\n",
    "    if model_type == 'Random Forests':\n",
    "        shap.summary_plot(shap_vals[1], test, show=False, plot_size=[12,15], max_display=len(test.columns), alpha=0.7, feature_names=cols)\n",
    "    else:\n",
    "        shap.summary_plot(shap_vals, test, show=False, plot_size=[12,15], max_display=len(test.columns), alpha=0.7, feature_names=cols)\n",
    "    #plt.title(f'SUMMARY PLOT - {model_type} - {fold_type}')\n",
    "    plt.show()\n",
    "\n",
    "    plt.figure(figsize=(12,15), dpi=300)\n",
    "    shap.summary_plot(shap_vals, test, plot_type=\"bar\", show=False, plot_size=[12,15], max_display=len(test.columns), feature_names=cols)\n",
    "    #plt.title(f'BAR PLOT - {model_type} - {fold_type}')\n",
    "    plt.show()\n",
    "    '''\n",
    "    for index, species in enumerate(['banfora', 'kisumu', 'ngoussu', 'vk7']):\n",
    "        data = df_train[features][(df_train_target['Species'] == index) & (~mask)]\n",
    "        indexes = list(set(data.index).intersection(test.index))\n",
    "        indexes = test.index.isin(indexes)\n",
    "        data = test.loc[indexes]\n",
    "\n",
    "        if model_type == 'Random Forests':\n",
    "            species_shap_vals = []\n",
    "            species_shap_vals.append(shap_vals[0][indexes])\n",
    "            species_shap_vals.append(shap_vals[1][indexes])\n",
    "        else:\n",
    "            species_shap_vals = shap_vals[indexes]\n",
    "        \n",
    "        plt.figure(figsize=(12,12), dpi=300)\n",
    "        if model_type == 'Random Forests':\n",
    "            shap.summary_plot(species_shap_vals[1], data, show=False, plot_size=[12,12], max_display=len(test.columns), alpha=0.7)\n",
    "        else:\n",
    "            shap.summary_plot(species_shap_vals, data, show=False, plot_size=[12,12], max_display=len(test.columns), alpha=0.7)\n",
    "        plt.title(f'SUMMARY PLOT - {model_type} - {fold_type} - {species}')\n",
    "        plt.show()\n",
    "\n",
    "        plt.figure(figsize=(12,12), dpi=300)\n",
    "        shap.summary_plot(species_shap_vals, data, plot_type=\"bar\", show=False, plot_size=[12,12], max_display=len(test.columns))\n",
    "        plt.title(f'BAR PLOT - {model_type} - {fold_type} - {species}')\n",
    "        plt.show()\n",
    "    '''\n",
    "    \n",
    "def shap_scatter(data, fold_type, explainer_type, model_type):\n",
    "    model = data['model']\n",
    "    df_train = data['df_train']\n",
    "    df_train_target = data['df_train_target']\n",
    "    features = data['features']\n",
    "    test = data['test']\n",
    "    train_os = data['train_os']\n",
    "    mask = data['mask']\n",
    "    \n",
    "    df_train_target.loc[df_train_target['TrialID'].isin([0,1,2,3]), 'Species'] = 0\n",
    "    df_train_target.loc[df_train_target['TrialID'].isin([4,5,6,7,8]),'Species'] = 1\n",
    "    df_train_target.loc[df_train_target['TrialID'].isin([9,10,11,12]),'Species'] = 2\n",
    "    df_train_target.loc[df_train_target['TrialID'].isin([13,14,15,16]),'Species'] = 3\n",
    "    df_train_target.loc[df_train_target['TrialID'].isin([0,1,2,3]),'Target'] = 1\n",
    "    df_train_target.loc[df_train_target['TrialID'].isin([13,14,15,16]),'Target'] = 0\n",
    "    df_train_target.loc[df_train_target['TrialID'].isin([4,5,6,7,8]),'Target'] = 0\n",
    "    df_train_target.loc[df_train_target['TrialID'].isin([9,10,11,12]),'Target'] = 1\n",
    "\n",
    "    print('Initalising SHAP...')\n",
    "    if explainer_type == 'TreeExplainer':\n",
    "        explainer = shap.TreeExplainer(model, data=train_os, model_output='probability')\n",
    "    elif explainer_type == 'Explainer':\n",
    "        explainer = shap.Explainer(model, train_os)\n",
    "\n",
    "    print('Computing SHAP values...')\n",
    "    test = test.sample(5000, random_state=0)\n",
    "\n",
    "    shap_vals = explainer(test)\n",
    "\n",
    "    print('Generating plots...')\n",
    "    return shap_vals, test\n",
    "\n",
    "\n",
    "def plot_heatmap(data, fold_type, explainer_type, model_type):\n",
    "    model = data['model']\n",
    "    df_train = data['df_train']\n",
    "    features = data['features']\n",
    "    test = data['test']\n",
    "    train_os = data['train_os']\n",
    "    mask = data['mask']\n",
    "\n",
    "    print('Initalising SHAP...')\n",
    "    if explainer_type == 'TreeExplainer':\n",
    "        explainer = shap.TreeExplainer(model, data=train_os, model_output='probability')\n",
    "    elif explainer_type == 'Explainer':\n",
    "        explainer = shap.Explainer(model, train_os)\n",
    "\n",
    "    print('Computing SHAP values...')\n",
    "    test = test.sample(5000, random_state=0)\n",
    "\n",
    "    #values = train_os.sample(5000, random_state=0)\n",
    "\n",
    "    shap_vals = explainer(test)\n",
    "\n",
    "    print('Generating plots...')\n",
    "    plt.figure(figsize=(12,15), dpi=300)\n",
    "    if model_type == 'Random Forests':\n",
    "        shap.plots.heatmap(shap_vals[1], instance_order=shap_vals[1].sum(1), show=False, max_display=20, plot_width=12)\n",
    "    else:\n",
    "        shap.plots.heatmap(shap_vals, instance_order=shap_vals.mean(1), show=False, max_display=20, plot_width=12)\n",
    "    plt.title(f'HEATMAP - {model_type} - {fold_type}')\n",
    "    plt.show()\n"
   ]
  },
  {
   "cell_type": "markdown",
   "metadata": {},
   "source": [
    "#### LOGISTIC MODEL"
   ]
  },
  {
   "cell_type": "code",
   "execution_count": null,
   "metadata": {},
   "outputs": [],
   "source": [
    "results_path = 'E:/IR_VS_IS/tuned model/logistic-regression-mutual/'\n",
    "data_path = results_path + 'data/'"
   ]
  },
  {
   "cell_type": "code",
   "execution_count": null,
   "metadata": {},
   "outputs": [],
   "source": [
    "index = 12\n",
    "shap_data = joblib.load(data_path+f'shap/logistic_shap_dump_{index}.dat')\n",
    "shap_plots(shap_data, 'Best', 'Explainer', 'Logistic Regression')"
   ]
  },
  {
   "cell_type": "code",
   "execution_count": null,
   "metadata": {},
   "outputs": [],
   "source": [
    "index = 5\n",
    "shap_data = joblib.load(data_path+f'shap/logistic_shap_dump_{index}.dat')\n",
    "shap_plots(shap_data, 'Worst', 'Explainer', 'Logistic Regression')"
   ]
  },
  {
   "cell_type": "markdown",
   "metadata": {},
   "source": [
    "#### RANDOM FORESTS"
   ]
  },
  {
   "cell_type": "code",
   "execution_count": null,
   "metadata": {},
   "outputs": [],
   "source": [
    "results_path = 'E:/IR_VS_IS/tuned model/random-forests-mutual/'\n",
    "data_path = results_path + 'data/'"
   ]
  },
  {
   "cell_type": "code",
   "execution_count": null,
   "metadata": {},
   "outputs": [],
   "source": [
    "index = 2\n",
    "shap_data = joblib.load(data_path+f'shap/random_forests_shap_dump_{index}.dat')\n",
    "shap_plots(shap_data, 'Best', 'TreeExplainer', 'Random Forests')"
   ]
  },
  {
   "cell_type": "code",
   "execution_count": null,
   "metadata": {},
   "outputs": [],
   "source": [
    "index = 17\n",
    "shap_data = joblib.load(data_path+f'shap/random_forests_shap_dump_{index}.dat')\n",
    "shap_plots(shap_data, 'Worst', 'TreeExplainer', 'Random Forests')"
   ]
  },
  {
   "cell_type": "markdown",
   "metadata": {},
   "source": [
    "### XGBOOST"
   ]
  },
  {
   "cell_type": "code",
   "execution_count": null,
   "metadata": {},
   "outputs": [],
   "source": [
    "results_path = 'E:/IR_VS_IS/tuned model/xgboost/'\n",
    "data_path = results_path + 'data/'"
   ]
  },
  {
   "cell_type": "code",
   "execution_count": null,
   "metadata": {},
   "outputs": [],
   "source": [
    "index = 15\n",
    "shap_data = joblib.load(data_path+f'shap/xgboost_shap_dump_{index}.dat')\n",
    "shap_plots(shap_data, 'Best', 'TreeExplainer', 'XGBoost')"
   ]
  },
  {
   "cell_type": "code",
   "execution_count": null,
   "metadata": {},
   "outputs": [],
   "source": [
    "index = 15\n",
    "shap_data = joblib.load(data_path+f'shap/xgboost_shap_dump_{index}.dat')\n",
    "shap_plots(shap_data, 'Best', 'TreeExplainer', 'XGBoost')"
   ]
  },
  {
   "cell_type": "code",
   "execution_count": null,
   "metadata": {},
   "outputs": [],
   "source": [
    "index = 15\n",
    "data = joblib.load(data_path+f'shap/xgboost_shap_dump_{index}.dat')\n",
    "\n",
    "model = data['model']\n",
    "df_train = data['df_train']\n",
    "features = data['features']\n",
    "test = data['test']\n",
    "train_os = data['train_os']\n",
    "mask = data['mask']\n",
    "\n",
    "explainer = shap.TreeExplainer(model, data=train_os, model_output='probability')\n",
    "\n",
    "print('Computing SHAP values...')\n",
    "train_os = train_os.sample(5000, random_state=0)\n",
    "\n",
    "shap_vals = explainer(train_os)\n",
    "\n",
    "print('Generating plots...')\n",
    "plt.figure(figsize=(12,15), dpi=300)\n",
    "\n",
    "shap.plots.heatmap(shap_vals, instance_order=shap_vals.mean(1), show=False, max_display=20, plot_width=12)\n",
    "plt.title(f'HEATMAP - XGBoost - train')\n",
    "plt.show()"
   ]
  },
  {
   "cell_type": "code",
   "execution_count": null,
   "metadata": {},
   "outputs": [],
   "source": [
    "index = 3\n",
    "shap_data = joblib.load(data_path+f'shap-1/xgboost_shap_dump_{index}.dat')\n",
    "plot_heatmap(shap_data, 'Best', 'TreeExplainer', 'XGBoost')"
   ]
  },
  {
   "cell_type": "code",
   "execution_count": null,
   "metadata": {},
   "outputs": [],
   "source": [
    "index = 15\n",
    "data = joblib.load(data_path+f'shap/xgboost_shap_dump_{index}.dat')\n",
    "\n",
    "model = data['model']\n",
    "df_train = data['df_train']\n",
    "features = data['features']\n",
    "test = data['test']\n",
    "train_os = data['train_os']\n",
    "mask = data['mask']\n",
    "\n",
    "explainer = shap.TreeExplainer(model)\n",
    "test = test.sample(5000, random_state=0)\n",
    "\n",
    "shap_interaction = explainer.shap_interaction_values(test)\n",
    "mean_shap = np.abs(shap_interaction).mean(0)\n",
    "df = pd.DataFrame(mean_shap, index=test.columns, columns=test.columns)\n",
    "df.where(df.values == np.diagonal(df),df.values*2, inplace=True)\n",
    "\n",
    "fig = plt.figure(figsize=(45, 30), edgecolor='r', dpi=100)\n",
    "ax = fig.add_subplot()\n",
    "sns.heatmap(df.round(decimals=3), cmap='coolwarm', annot=True, fmt='.6g', cbar=False, ax=ax, )\n",
    "ax.tick_params(axis='x', labelsize=15, rotation=90)\n",
    "ax.tick_params(axis='y', labelsize=15)\n",
    "\n",
    "plt.title(\"SHAP interaction values\", fontsize=60)\n",
    "plt.yticks(rotation=0) \n",
    "plt.show()"
   ]
  },
  {
   "cell_type": "code",
   "execution_count": null,
   "metadata": {},
   "outputs": [],
   "source": [
    "index = 15\n",
    "data = joblib.load(data_path+f'shap/xgboost_shap_dump_{index}.dat')\n",
    "\n",
    "model = data['model']\n",
    "df_train = data['df_train']\n",
    "df_train_target = data['df_train_target']\n",
    "features = data['features']\n",
    "test = data['test']\n",
    "train_os = data['train_os']\n",
    "mask = data['mask']\n",
    "\n"
   ]
  },
  {
   "cell_type": "code",
   "execution_count": null,
   "metadata": {},
   "outputs": [],
   "source": [
    "test_targets = df_train_target[~mask]"
   ]
  },
  {
   "cell_type": "code",
   "execution_count": null,
   "metadata": {},
   "outputs": [],
   "source": [
    "from statistics import mode\n",
    "\n",
    "def get_track_prediction(y_true, scores, preds, groups):\n",
    "    unique_groups = groups.unique()\n",
    "    track_preds = []\n",
    "    track_true = []\n",
    "    avg_scores = []\n",
    "    for val in unique_groups:\n",
    "        indexes = np.where(groups == val)[0]\n",
    "        track_true.append(mode(y_true.values[indexes]))\n",
    "        avg_scores.append(np.mean(scores[indexes]))\n",
    "        if np.mean(preds[indexes]) >= 0.5: \n",
    "            track_preds.append(1)\n",
    "        else:\n",
    "            track_preds.append(0)\n",
    "\n",
    "    return track_true, track_preds, avg_scores\n",
    "\n",
    "labels = model.predict(test)\n",
    "scores = model.predict_proba(test)[:,1]\n",
    "\n",
    "track_true, track_preds, avg_scores = get_track_prediction(\n",
    "    test_targets['Target'], scores, labels, test_targets['TrackGroup'])\n",
    "\n",
    "print('segment bal acc: ', metrics.balanced_accuracy_score(test_targets['Target'], labels))\n",
    "print('segment roc auc: ', metrics.roc_auc_score(test_targets['Target'], scores))\n",
    "print('track  bal acc: ', metrics.balanced_accuracy_score(track_true, track_preds))"
   ]
  },
  {
   "cell_type": "code",
   "execution_count": null,
   "metadata": {},
   "outputs": [],
   "source": []
  },
  {
   "cell_type": "code",
   "execution_count": null,
   "metadata": {},
   "outputs": [],
   "source": [
    "index = 15\n",
    "shap_data = joblib.load(data_path+f'shap/xgboost_shap_dump_{index}.dat')\n",
    "shap_vals, test = shap_scatter(shap_data, 'Best', 'TreeExplainer', 'XGBoost')\n",
    "\n",
    "df_train = shap_data['df_train']\n",
    "features = shap_data['features']\n",
    "test_targets = shap_data['test_targets']\n",
    "targets = test_targets.loc[test.index.values]\n",
    "targets = targets['Target']\n",
    "\n",
    "train = df_train.iloc[~df_train.index.isin(shap_data['test'].index)]\n",
    "scaler = StandardScaler().fit(train[features])\n",
    "df = pd.DataFrame(scaler.inverse_transform(test), columns=features, index=test.index)\n",
    "\n",
    "path_to_save = 'E:/IR_VS_IS/tuned model/xgboost/shap/probability/scatter-plots/'\n",
    "\n",
    "shap_vals.data = df.values\n",
    "\n",
    "for feature in df.columns.values:\n",
    "    mask = targets.values == 1\n",
    "    plt.figure(figsize=(12,8), dpi=300)\n",
    "    shap.plots.scatter(shap_vals[:,feature], alpha=0.7, show=False)\n",
    "    plt.grid(True)\n",
    "    plt.title(f'SHAP Scatter plot of {feature}')\n",
    "    #plt.show()\n",
    "    #break\n",
    "    plt.savefig(path_to_save+f'{feature}.png', bbox_inches='tight')\n",
    "    plt.close()"
   ]
  },
  {
   "cell_type": "code",
   "execution_count": null,
   "metadata": {},
   "outputs": [],
   "source": [
    "\n",
    "fig, axes = plt.subplots(2,3, figsize=(15,10), dpi=300, gridspec_kw=dict(hspace=0.3, wspace=0.3))\n",
    "\n",
    "feature = 'Y Velocity (3rd quartile)'\n",
    "shap.plots.scatter(shap_vals[:,feature], alpha=0.7, show=False, ax=axes[0][0])\n",
    "axes[0][0].set_title('(A)')\n",
    "axes[0][0].set_ylabel('SHAP Value')\n",
    "axes[0][0].set_xlabel('Vertical Velocity (3rd quartile)')\n",
    "axes[0][0].grid(True)\n",
    "\n",
    "feature = 'Y Velocity (1st quartile)'\n",
    "shap.plots.scatter(shap_vals[:,feature], alpha=0.7, show=False, ax=axes[0][1])\n",
    "axes[0][1].set_title('(B)')\n",
    "axes[0][1].set_ylabel('SHAP Value')\n",
    "axes[0][1].set_xlabel('Vertical Velocity (1st quartile)')\n",
    "axes[0][1].grid(True)\n",
    "\n",
    "feature = 'Y Velocity (std)'\n",
    "shap.plots.scatter(shap_vals[:,feature], alpha=0.7, show=False, ax=axes[0][2])\n",
    "axes[0][2].set_title('(C)')\n",
    "axes[0][2].set_ylabel('SHAP Value')\n",
    "axes[0][2].set_xlabel('Vertical Velocity (standard deviation)')\n",
    "axes[0][2].grid(True)\n",
    "\n",
    "feature = 'Y Velocity (kurtosis)'\n",
    "shap.plots.scatter(shap_vals[:,feature], alpha=0.7, show=False, ax=axes[1][0])\n",
    "axes[1][0].set_title('(D)')\n",
    "axes[1][0].set_ylabel('SHAP Value')\n",
    "axes[1][0].set_xlabel('Vertical Velocity (kurtosis)')\n",
    "axes[1][0].grid(True)\n",
    "\n",
    "feature = 'Y Velocity (skewness)'\n",
    "shap.plots.scatter(shap_vals[:,feature], alpha=0.7, show=False, ax=axes[1][1])\n",
    "axes[1][1].set_title('(E)')\n",
    "axes[1][1].set_ylabel('SHAP Value')\n",
    "axes[1][1].set_xlabel('Vertical Velocity (skewness)')\n",
    "axes[1][1].grid(True)\n",
    "\n",
    "#plt.tight_layout()\n",
    "axes[1][2].set_visible(False)\n",
    "axes[1][0].set_position([0.24,0.125,0.228,0.343])\n",
    "axes[1][1].set_position([0.55,0.125,0.228,0.343])\n",
    "\n",
    "plt.show()\n"
   ]
  },
  {
   "cell_type": "code",
   "execution_count": null,
   "metadata": {},
   "outputs": [],
   "source": []
  },
  {
   "cell_type": "markdown",
   "metadata": {},
   "source": [
    "### SAME CLASS"
   ]
  },
  {
   "cell_type": "code",
   "execution_count": null,
   "metadata": {},
   "outputs": [],
   "source": [
    "def shap_plots(data, fold_type, explainer_type, model_type):\n",
    "    model = data['model']\n",
    "    df_train = data['df_train']\n",
    "    df_train_target = data['df_train_target']\n",
    "    features = data['features']\n",
    "    test = data['test']\n",
    "    train_os = data['train_os']\n",
    "    mask = data['mask']\n",
    "\n",
    "    #df_train_target.loc[df_train_target['TrialID'].isin([0,1,2,3]), 'Species'] = 0\n",
    "    #df_train_target.loc[df_train_target['TrialID'].isin([4,5,6,7,8]),'Species'] = 1\n",
    "    #df_train_target.loc[df_train_target['TrialID'].isin([9,10,11,12]),'Species'] = 2\n",
    "    #df_train_target.loc[df_train_target['TrialID'].isin([13,14,15,16]),'Species'] = 3\n",
    "    #df_train_target.loc[df_train_target['TrialID'].isin([0,1,2,3]),'Target'] = 1        # banfora\n",
    "    #df_train_target.loc[df_train_target['TrialID'].isin([13,14,15,16]),'Target'] = 0   # vk7\n",
    "    #df_train_target.loc[df_train_target['TrialID'].isin([4,5,6,7,8]),'Target'] = 0     # kismum\n",
    "    #df_train_target.loc[df_train_target['TrialID'].isin([9,10,11,12]),'Target'] = 1     # ngoussu\n",
    "\n",
    "    print('Initalising SHAP...')\n",
    "    if explainer_type == 'TreeExplainer':\n",
    "        explainer = shap.TreeExplainer(model)\n",
    "    elif explainer_type == 'Explainer':\n",
    "        explainer = shap.Explainer(model, train_os)\n",
    "\n",
    "    print('Computing SHAP values...')\n",
    "\n",
    "    test = test.sample(500, random_state=0)\n",
    "\n",
    "    shap_vals = explainer.shap_values(test)\n",
    "\n",
    "    print('Generating plots...')\n",
    "\n",
    "    plt.figure(figsize=(12,15), dpi=300)\n",
    "    if model_type == 'Random Forests':\n",
    "        shap.summary_plot(shap_vals[0], test, show=False, plot_size=[12,15], max_display=len(test.columns), alpha=0.7)\n",
    "    else:\n",
    "        shap.summary_plot(shap_vals, test, show=False, plot_size=[12,15], max_display=len(test.columns), alpha=0.7)\n",
    "    plt.title(f'SUMMARY PLOT - {model_type} - {fold_type}')\n",
    "    plt.show()\n",
    "\n",
    "    plt.figure(figsize=(12,15), dpi=300)\n",
    "    shap.summary_plot(shap_vals, test, plot_type=\"bar\", show=False, plot_size=[12,15], max_display=len(test.columns))\n",
    "    plt.title(f'BAR PLOT - {model_type} - {fold_type}')\n",
    "    plt.show()\n"
   ]
  },
  {
   "cell_type": "code",
   "execution_count": null,
   "metadata": {},
   "outputs": [],
   "source": [
    "data_path = 'E:/IR_VS_IS/tuned model/banfora-vs-vk7/data/'\n",
    "index = 0\n",
    "shap_data = joblib.load(data_path+f'shap/xgboost_shap_dump_{index}.dat')\n",
    "shap_plots(shap_data, 'Best', 'TreeExplainer', 'XGBoost')"
   ]
  },
  {
   "cell_type": "code",
   "execution_count": null,
   "metadata": {},
   "outputs": [],
   "source": [
    "index = 1\n",
    "shap_data = joblib.load(data_path+f'shap/xgboost_shap_dump_{index}.dat')\n",
    "shap_plots(shap_data, 'Worst', 'TreeExplainer', 'XGBoost')"
   ]
  }
 ],
 "metadata": {
  "kernelspec": {
   "display_name": "venv",
   "language": "python",
   "name": "python3"
  },
  "language_info": {
   "codemirror_mode": {
    "name": "ipython",
    "version": 3
   },
   "file_extension": ".py",
   "mimetype": "text/x-python",
   "name": "python",
   "nbconvert_exporter": "python",
   "pygments_lexer": "ipython3",
   "version": "3.11.3"
  },
  "vscode": {
   "interpreter": {
    "hash": "30f568716b9af256ac498dfb314c1a98595c9f57e2e62c0bc97adba654735ca0"
   }
  }
 },
 "nbformat": 4,
 "nbformat_minor": 2
}
